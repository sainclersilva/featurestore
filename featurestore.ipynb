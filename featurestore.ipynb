{
 "cells": [
  {
   "cell_type": "code",
   "execution_count": 1,
   "id": "initial_id",
   "metadata": {
    "ExecuteTime": {
     "end_time": "2024-10-25T16:44:03.804622Z",
     "start_time": "2024-10-25T16:44:02.623803Z"
    },
    "collapsed": true,
    "jupyter": {
     "outputs_hidden": true
    }
   },
   "outputs": [],
   "source": [
    "#importanto libs\n",
    "import sqlite3\n",
    "import pandas as pd\n",
    "from datetime import datetime\n",
    "\n",
    "# Criação do banco de dados e das tabelas\n",
    "conn = sqlite3.connect('api/feature_store.db')\n",
    "cursor = conn.cursor()"
   ]
  },
  {
   "cell_type": "code",
   "execution_count": 33,
   "id": "2ff55e6cbe9995b1",
   "metadata": {
    "ExecuteTime": {
     "end_time": "2024-10-25T15:21:10.639131Z",
     "start_time": "2024-10-25T15:21:10.492100Z"
    }
   },
   "outputs": [
    {
     "data": {
      "text/plain": [
       "<sqlite3.Cursor at 0x1e585362240>"
      ]
     },
     "execution_count": 33,
     "metadata": {},
     "output_type": "execute_result"
    }
   ],
   "source": [
    "# Tabela para armazenar features de consumers\n",
    "cursor.execute('''CREATE TABLE IF NOT EXISTS consumer_features (\n",
    "                    customer_id TEXT PRIMARY KEY,\n",
    "                    language TEXT,\n",
    "                    created_at TIMESTAMP,\n",
    "                    active INTEGER,\n",
    "                    customer_phone_area TEXT,\n",
    "                    customer_phone_number TEXT\n",
    "                 )''')"
   ]
  },
  {
   "cell_type": "code",
   "execution_count": 34,
   "id": "2eea63bd323a9961",
   "metadata": {
    "ExecuteTime": {
     "end_time": "2024-10-25T15:21:14.443317Z",
     "start_time": "2024-10-25T15:21:14.274484Z"
    }
   },
   "outputs": [
    {
     "data": {
      "text/plain": [
       "<sqlite3.Cursor at 0x1e585362240>"
      ]
     },
     "execution_count": 34,
     "metadata": {},
     "output_type": "execute_result"
    }
   ],
   "source": [
    "# Tabela para armazenar features de restaurants\n",
    "cursor.execute('''CREATE TABLE IF NOT EXISTS restaurant_features (\n",
    "                    id TEXT PRIMARY KEY,\n",
    "                    created_at TIMESTAMP,\n",
    "                    enabled INTEGER,\n",
    "                    price_range REAL,\n",
    "                    average_ticket REAL,\n",
    "                    takeout_time REAL,\n",
    "                    delivery_time REAL,\n",
    "                    minimum_order_value REAL,\n",
    "                    merchant_zip_code TEXT,\n",
    "                    merchant_city TEXT,\n",
    "                    merchant_state TEXT,\n",
    "                    merchant_country TEXT\n",
    "                 )''')"
   ]
  },
  {
   "cell_type": "code",
   "execution_count": 35,
   "id": "16fe22cd0d138071",
   "metadata": {
    "ExecuteTime": {
     "end_time": "2024-10-25T15:21:25.751053Z",
     "start_time": "2024-10-25T15:21:24.011261Z"
    }
   },
   "outputs": [],
   "source": [
    "conn.commit()"
   ]
  },
  {
   "cell_type": "code",
   "execution_count": 36,
   "id": "12c010eba813e01c",
   "metadata": {
    "ExecuteTime": {
     "end_time": "2024-10-25T15:21:28.264048Z",
     "start_time": "2024-10-25T15:21:28.236531Z"
    }
   },
   "outputs": [],
   "source": [
    "#ingestao de dados a partir do aquivo consumer.csv\n",
    "def ingest_consumer_data(file_path='data/consumer.csv'):\n",
    "    # Carrega o arquivo CSV\n",
    "    df = pd.read_csv(file_path)\n",
    "    \n",
    "    # Conversão de tipos e manipulações, se necessário\n",
    "    df['created_at'] = pd.to_datetime(df['created_at'])\n",
    "    df['active'] = df['active'].astype(int)  # Garantir que `active` seja binário\n",
    "    \n",
    "    # Inserção dos dados na tabela consumer_features\n",
    "    df.to_sql('consumer_features', conn, if_exists='replace', index=False)\n",
    "    print(\"Dados de consumer inseridos na Feature Store.\")\n"
   ]
  },
  {
   "cell_type": "code",
   "execution_count": 37,
   "id": "917f764a685fb35e",
   "metadata": {
    "ExecuteTime": {
     "end_time": "2024-10-25T15:21:30.393033Z",
     "start_time": "2024-10-25T15:21:30.379877Z"
    }
   },
   "outputs": [],
   "source": [
    "#ingestao de dados a partir do aquivo consumer.csv\n",
    "def ingest_restaurant_data(file_path='data/restaurant.csv'):\n",
    "    # Carrega o arquivo CSV\n",
    "    df = pd.read_csv(file_path)\n",
    "    \n",
    "    # Conversão de tipos e manipulações, se necessário\n",
    "    df['created_at'] = pd.to_datetime(df['created_at'])\n",
    "    df['enabled'] = df['enabled'].astype(int)\n",
    "\n",
    "    # Inserção dos dados na tabela restaurant_features\n",
    "    df.to_sql('restaurant_features', conn, if_exists='replace', index=False)\n",
    "    print(\"Dados de restaurant inseridos na Feature Store.\")"
   ]
  },
  {
   "cell_type": "code",
   "execution_count": 38,
   "id": "359e697c1738054b",
   "metadata": {
    "ExecuteTime": {
     "end_time": "2024-10-25T15:21:33.433578Z",
     "start_time": "2024-10-25T15:21:33.292478Z"
    }
   },
   "outputs": [
    {
     "name": "stdout",
     "output_type": "stream",
     "text": [
      "Dados de consumer inseridos na Feature Store.\n",
      "Dados de restaurant inseridos na Feature Store.\n"
     ]
    }
   ],
   "source": [
    "#Executando as Funções para Ingestão\n",
    "ingest_consumer_data()  # Carrega dados do arquivo consumer.csv\n",
    "ingest_restaurant_data()  # Carrega dados do arquivo restaurant.csv"
   ]
  },
  {
   "cell_type": "code",
   "execution_count": 39,
   "id": "6178c261724fb9b1",
   "metadata": {
    "ExecuteTime": {
     "end_time": "2024-10-25T15:21:35.269338Z",
     "start_time": "2024-10-25T15:21:35.249264Z"
    }
   },
   "outputs": [
    {
     "name": "stdout",
     "output_type": "stream",
     "text": [
      "Consumer data:                                          customer_id language  \\\n",
      "0  e8cc60860e09c0bb19610b06ced69c973eb83982cfc98e...    pt-br   \n",
      "1  a2834a38a9876cf74e016524dd2e8c1f010ee12b2b684d...    pt-br   \n",
      "2  41e1051728eba13341136d67d0757f8d8cc44b2a405b71...    pt-br   \n",
      "3  8e7c1dcb64edf95c935147f6d560cb068c44714cb1b21b...    pt-br   \n",
      "4  7823d4cf4150c5daeae0bd799206852fc123bdef0cf5d1...    pt-br   \n",
      "\n",
      "                         created_at  active customer_name  \\\n",
      "0  2018-04-05 14:49:18.165000+00:00       1          NUNO   \n",
      "1  2018-01-14 21:40:02.141000+00:00       1      ADRIELLY   \n",
      "2  2018-01-07 03:47:15.554000+00:00       1         PAULA   \n",
      "3  2018-01-10 22:17:08.160000+00:00       1        HELTON   \n",
      "4  2018-04-06 00:16:20.935000+00:00       1        WENDER   \n",
      "\n",
      "   customer_phone_area  customer_phone_number  \n",
      "0                   46              816135924  \n",
      "1                   59              231330577  \n",
      "2                   62              347597883  \n",
      "3                   13              719366842  \n",
      "4                   76              543232158  \n"
     ]
    }
   ],
   "source": [
    "# Consultando os dados da tabela consumer\n",
    "consumer_data = pd.read_sql_query(\"SELECT * FROM consumer_features LIMIT 5\", conn)\n",
    "print(\"Consumer data:\", consumer_data)"
   ]
  },
  {
   "cell_type": "code",
   "execution_count": 40,
   "id": "5b18dd2abf014eb9",
   "metadata": {
    "ExecuteTime": {
     "end_time": "2024-10-25T15:21:37.434935Z",
     "start_time": "2024-10-25T15:21:37.417498Z"
    }
   },
   "outputs": [
    {
     "name": "stdout",
     "output_type": "stream",
     "text": [
      "Restaurant data:                                                   id  \\\n",
      "0  d19ff6fca6288939bff073ad0a119d25c0365c407e9e5d...   \n",
      "1  631df0985fdbbaf27b9b031a8f381924e3483833385748...   \n",
      "2  135c5c4ae4c1ec1fdc23e8c649f313e39be8db913d8bc5...   \n",
      "3  d26f84c470451f752bef036c55517b6d9950d41806f10e...   \n",
      "4  97b9884600ea7192314580d9115f8882b8634f5aa201ff...   \n",
      "\n",
      "                         created_at  enabled  price_range  average_ticket  \\\n",
      "0  2017-01-23 12:52:30.910000+00:00        0            3            60.0   \n",
      "1  2017-01-20 13:14:48.286000+00:00        1            3            60.0   \n",
      "2  2017-01-23 12:46:33.457000+00:00        1            5           100.0   \n",
      "3  2017-01-20 13:15:04.806000+00:00        1            3            80.0   \n",
      "4  2017-01-20 13:14:27.701000+00:00        1            3            60.0   \n",
      "\n",
      "   takeout_time  delivery_time  minimum_order_value  merchant_zip_code  \\\n",
      "0             0             50                 30.0              14025   \n",
      "1             0              0                 30.0              50180   \n",
      "2             0             45                 10.0              23090   \n",
      "3             0              0                 18.9              40255   \n",
      "4             0              0                 25.0              64600   \n",
      "\n",
      "    merchant_city merchant_state merchant_country  \n",
      "0  RIBEIRAO PRETO             SP               BR  \n",
      "1       SAO PAULO             SP               BR  \n",
      "2  RIO DE JANEIRO             RJ               BR  \n",
      "3        SALVADOR             BA               BR  \n",
      "4         BARUERI             SP               BR  \n"
     ]
    }
   ],
   "source": [
    "# Consultando os dados da tabela restaurant\n",
    "restaurant_data = pd.read_sql_query(\"SELECT * FROM restaurant_features LIMIT 5\", conn)\n",
    "print(\"Restaurant data:\", restaurant_data)"
   ]
  },
  {
   "cell_type": "code",
   "execution_count": 41,
   "id": "f0f3bfd8f2b78434",
   "metadata": {
    "ExecuteTime": {
     "end_time": "2024-10-25T15:21:40.416802Z",
     "start_time": "2024-10-25T15:21:40.407571Z"
    }
   },
   "outputs": [],
   "source": [
    "#função para cada conjunto de dados (consumer e restaurant) para ingestão e pré-processamento\n",
    "def ingest_consumer_data(file_path):\n",
    "    df = pd.read_csv(file_path)\n",
    "    \n",
    "    # Conversão de tipos e manipulações\n",
    "    df['created_at'] = pd.to_datetime(df['created_at'])\n",
    "    df['active'] = df['active'].astype(int)  # Garantir que `active` seja binário\n",
    "\n",
    "    # Inserção no banco de dados\n",
    "    df.to_sql('consumer_features', conn, if_exists='replace', index=False)\n",
    "    print(\"Dados de consumer ingeridos na Feature Store.\")\n"
   ]
  },
  {
   "cell_type": "code",
   "execution_count": 42,
   "id": "994182c2c1c3d8b1",
   "metadata": {
    "ExecuteTime": {
     "end_time": "2024-10-25T15:21:43.726570Z",
     "start_time": "2024-10-25T15:21:43.718994Z"
    }
   },
   "outputs": [],
   "source": [
    "#função para cada conjunto de dados (consumer e restaurant) para ingestão e pré-processamento\n",
    "def ingest_restaurant_data(file_path):\n",
    "    df = pd.read_csv(file_path)\n",
    "    \n",
    "    # Conversão de tipos e manipulações\n",
    "    df['created_at'] = pd.to_datetime(df['created_at'])\n",
    "    df['enabled'] = df['enabled'].astype(int)\n",
    "\n",
    "    # Inserção no banco de dados\n",
    "    df.to_sql('restaurant_features', conn, if_exists='replace', index=False)\n",
    "    print(\"Dados de restaurant ingeridos na Feature Store.\")"
   ]
  },
  {
   "cell_type": "code",
   "execution_count": 43,
   "id": "c2dfb88afb63e7af",
   "metadata": {
    "ExecuteTime": {
     "end_time": "2024-10-25T15:21:45.944633Z",
     "start_time": "2024-10-25T15:21:45.935695Z"
    }
   },
   "outputs": [],
   "source": [
    "#Funções para Extração de Features\n",
    "#Essas funções extraem e retornam as features necessárias para treinar modelos específicos\n",
    "def get_consumer_features():\n",
    "    query = \"SELECT * FROM consumer_features\"\n",
    "    return pd.read_sql_query(query, conn)\n",
    "\n",
    "def get_restaurant_features():\n",
    "    query = \"SELECT * FROM restaurant_features\"\n",
    "    return pd.read_sql_query(query, conn)\n",
    "\n",
    "# Exemplo de função que combina features dos dois datasets\n",
    "def get_combined_features():\n",
    "    query = '''\n",
    "    SELECT c.customer_id, r.id, c.language, c.active, r.price_range, r.average_ticket\n",
    "    FROM consumer_features AS c\n",
    "    INNER JOIN restaurant_features AS r\n",
    "    ON c.customer_id = r.id  -- Exemplo de join, adapte conforme a relação real\n",
    "    '''\n",
    "    return pd.read_sql_query(query, conn)"
   ]
  },
  {
   "cell_type": "code",
   "execution_count": 44,
   "id": "a65e0b96eab17c86",
   "metadata": {
    "ExecuteTime": {
     "end_time": "2024-10-25T15:21:48.783175Z",
     "start_time": "2024-10-25T15:21:48.772042Z"
    }
   },
   "outputs": [],
   "source": [
    "#Pipeline de Treinamento Usando as Features da Feature Store\n",
    "from sklearn.model_selection import train_test_split\n",
    "from sklearn.ensemble import RandomForestClassifier\n",
    "from sklearn.metrics import accuracy_score"
   ]
  },
  {
   "cell_type": "code",
   "execution_count": 45,
   "id": "ca03a6091a99cc99",
   "metadata": {
    "ExecuteTime": {
     "end_time": "2024-10-25T15:21:50.229855Z",
     "start_time": "2024-10-25T15:21:50.223188Z"
    }
   },
   "outputs": [],
   "source": [
    "# Exemplo para treinamento com dados de consumidores\n",
    "def train_consumer_model():\n",
    "    df = get_consumer_features()\n",
    "    X = df.drop(columns=['customer_id', 'customer_name'])  # Colunas irrelevantes\n",
    "    y = df['active']  # Alvo\n",
    "\n",
    "    # Divisão treino/teste\n",
    "    X_train, X_test, y_train, y_test = train_test_split(X, y, test_size=0.3, random_state=42)\n",
    "\n",
    "    # Modelo e treinamento\n",
    "    model = RandomForestClassifier(random_state=42)\n",
    "    model.fit(X_train, y_train)\n",
    "\n",
    "    # Avaliação\n",
    "    y_pred = model.predict(X_test)\n",
    "    print(f\"Acurácia do modelo de consumidor: {accuracy_score(y_test, y_pred):.4f}\")"
   ]
  },
  {
   "cell_type": "code",
   "execution_count": 46,
   "id": "2d2c112fd65f30b5",
   "metadata": {
    "ExecuteTime": {
     "end_time": "2024-10-25T15:21:52.445330Z",
     "start_time": "2024-10-25T15:21:52.432350Z"
    }
   },
   "outputs": [],
   "source": [
    "# Exemplo para treinamento com dados de restaurantes\n",
    "def train_restaurant_model():\n",
    "    df = get_restaurant_features()\n",
    "    X = df.drop(columns=['id', 'created_at', 'merchant_zip_code'])  # Colunas irrelevantes\n",
    "    y = df['enabled']  # Alvo\n",
    "\n",
    "    # Divisão treino/teste\n",
    "    X_train, X_test, y_train, y_test = train_test_split(X, y, test_size=0.3, random_state=42)\n",
    "\n",
    "    # Modelo e treinamento\n",
    "    model = RandomForestClassifier(random_state=42)\n",
    "    model.fit(X_train, y_train)\n",
    "\n",
    "    # Avaliação\n",
    "    y_pred = model.predict(X_test)\n",
    "    print(f\"Acurácia do modelo de restaurante: {accuracy_score(y_test, y_pred):.4f}\")"
   ]
  },
  {
   "cell_type": "code",
   "execution_count": 31,
   "id": "d0f81a78a065d7f",
   "metadata": {
    "ExecuteTime": {
     "end_time": "2024-10-25T14:34:08.894854Z",
     "start_time": "2024-10-25T14:34:08.888568Z"
    }
   },
   "outputs": [],
   "source": [
    "#Interagindo com o modelo através de uma API\n",
    "#necessarios os pacotes fastapi e uvicorn (server)\n",
    "\n",
    "#Arquivos base da API\n",
    "#1.main.py - possui definicao dos endpoints\n",
    "#2.crud.py - possui funcoes crud para criar, ler, atualizar e deletar dados do banco\n",
    "#3.models.py - definicao dos modelos\n",
    "#4.database.py - conexao com banco de dados"
   ]
  },
  {
   "cell_type": "code",
   "execution_count": 35,
   "id": "a01099d168c5195c",
   "metadata": {
    "ExecuteTime": {
     "end_time": "2024-10-25T14:00:22.850386Z",
     "start_time": "2024-10-25T14:00:22.843366Z"
    }
   },
   "outputs": [],
   "source": [
    "#Executando a api\n",
    "#executar o comando na terminal\n",
    "# necessário estar no diretorio raiz do projeto /featurestore/api\n",
    "# --> uvicorn main:app --reload\n",
    "\n",
    "#Após executar o comando no terminal\n",
    "#a aplicação carregará na porta 8000 por padrão: http://127.0.0.1:8000\n",
    "\n",
    "#Endpoints Disponíveis:\n",
    "\n",
    "#POST /consumers/: Insere um novo consumidor.\n",
    "#GET /consumers/: Retorna todos os consumidores.\n",
    "#POST /restaurants/: Insere um novo restaurante.\n",
    "#GET /restaurants/: Retorna todos os restaurantes.\n",
    "\n",
    "#Documentação disponível em http://127.0.0.1:8000/docs\n",
    "\n",
    "#Testando os Endpoints\n",
    "#Utilize ferramentas como Postman/SoapUI \n",
    "# ou a interface do Swagger (http://127.0.0.1:8000/docs) \n",
    "# para testar os endpoints \n",
    "# e verificar a comunicação com a feature store no banco SQLite"
   ]
  }
 ],
 "metadata": {
  "kernelspec": {
   "display_name": "Python 3 (ipykernel)",
   "language": "python",
   "name": "python3"
  },
  "language_info": {
   "codemirror_mode": {
    "name": "ipython",
    "version": 3
   },
   "file_extension": ".py",
   "mimetype": "text/x-python",
   "name": "python",
   "nbconvert_exporter": "python",
   "pygments_lexer": "ipython3",
   "version": "3.12.7"
  }
 },
 "nbformat": 4,
 "nbformat_minor": 5
}
